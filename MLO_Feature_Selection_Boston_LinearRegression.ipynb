{
 "cells": [
  {
   "cell_type": "code",
   "execution_count": 42,
   "id": "607a5d31-0816-4d01-a85f-61e30dc5b798",
   "metadata": {},
   "outputs": [],
   "source": [
    "import pandas as pd\n",
    "import numpy as np\n",
    "from sklearn.linear_model import LinearRegression\n",
    "from sklearn.feature_selection import RFE, RFECV"
   ]
  },
  {
   "cell_type": "code",
   "execution_count": 43,
   "id": "85f0b6a7-08fc-4cbf-9224-c0a93ef5b090",
   "metadata": {},
   "outputs": [],
   "source": [
    "data = pd.read_csv(\"C:\\\\Users\\\\Aravinthan\\\\Desktop\\\\MLO\\\\data\\\\Boston.CSV\")"
   ]
  },
  {
   "cell_type": "code",
   "execution_count": 44,
   "id": "03ec9a9e-593d-4964-9d05-31f17d286094",
   "metadata": {},
   "outputs": [
    {
     "data": {
      "text/html": [
       "<div>\n",
       "<style scoped>\n",
       "    .dataframe tbody tr th:only-of-type {\n",
       "        vertical-align: middle;\n",
       "    }\n",
       "\n",
       "    .dataframe tbody tr th {\n",
       "        vertical-align: top;\n",
       "    }\n",
       "\n",
       "    .dataframe thead th {\n",
       "        text-align: right;\n",
       "    }\n",
       "</style>\n",
       "<table border=\"1\" class=\"dataframe\">\n",
       "  <thead>\n",
       "    <tr style=\"text-align: right;\">\n",
       "      <th></th>\n",
       "      <th>crim</th>\n",
       "      <th>zn</th>\n",
       "      <th>indus</th>\n",
       "      <th>nox</th>\n",
       "      <th>rm</th>\n",
       "      <th>age</th>\n",
       "      <th>dis</th>\n",
       "      <th>rad</th>\n",
       "      <th>tax</th>\n",
       "      <th>ptratio</th>\n",
       "      <th>black</th>\n",
       "      <th>lstat</th>\n",
       "      <th>medv</th>\n",
       "    </tr>\n",
       "  </thead>\n",
       "  <tbody>\n",
       "    <tr>\n",
       "      <th>0</th>\n",
       "      <td>0.00632</td>\n",
       "      <td>18.0</td>\n",
       "      <td>2.31</td>\n",
       "      <td>0.538</td>\n",
       "      <td>6.575</td>\n",
       "      <td>65.2</td>\n",
       "      <td>4.0900</td>\n",
       "      <td>1</td>\n",
       "      <td>296</td>\n",
       "      <td>15.3</td>\n",
       "      <td>396.90</td>\n",
       "      <td>4.98</td>\n",
       "      <td>24.0</td>\n",
       "    </tr>\n",
       "    <tr>\n",
       "      <th>1</th>\n",
       "      <td>0.02731</td>\n",
       "      <td>0.0</td>\n",
       "      <td>7.07</td>\n",
       "      <td>0.469</td>\n",
       "      <td>6.421</td>\n",
       "      <td>78.9</td>\n",
       "      <td>4.9671</td>\n",
       "      <td>2</td>\n",
       "      <td>242</td>\n",
       "      <td>17.8</td>\n",
       "      <td>396.90</td>\n",
       "      <td>9.14</td>\n",
       "      <td>21.6</td>\n",
       "    </tr>\n",
       "    <tr>\n",
       "      <th>2</th>\n",
       "      <td>0.02729</td>\n",
       "      <td>0.0</td>\n",
       "      <td>7.07</td>\n",
       "      <td>0.469</td>\n",
       "      <td>7.185</td>\n",
       "      <td>61.1</td>\n",
       "      <td>4.9671</td>\n",
       "      <td>2</td>\n",
       "      <td>242</td>\n",
       "      <td>17.8</td>\n",
       "      <td>392.83</td>\n",
       "      <td>4.03</td>\n",
       "      <td>34.7</td>\n",
       "    </tr>\n",
       "    <tr>\n",
       "      <th>3</th>\n",
       "      <td>0.03237</td>\n",
       "      <td>0.0</td>\n",
       "      <td>2.18</td>\n",
       "      <td>0.458</td>\n",
       "      <td>6.998</td>\n",
       "      <td>45.8</td>\n",
       "      <td>6.0622</td>\n",
       "      <td>3</td>\n",
       "      <td>222</td>\n",
       "      <td>18.7</td>\n",
       "      <td>394.63</td>\n",
       "      <td>2.94</td>\n",
       "      <td>33.4</td>\n",
       "    </tr>\n",
       "    <tr>\n",
       "      <th>4</th>\n",
       "      <td>0.06905</td>\n",
       "      <td>0.0</td>\n",
       "      <td>2.18</td>\n",
       "      <td>0.458</td>\n",
       "      <td>7.147</td>\n",
       "      <td>54.2</td>\n",
       "      <td>6.0622</td>\n",
       "      <td>3</td>\n",
       "      <td>222</td>\n",
       "      <td>18.7</td>\n",
       "      <td>396.90</td>\n",
       "      <td>5.33</td>\n",
       "      <td>36.2</td>\n",
       "    </tr>\n",
       "  </tbody>\n",
       "</table>\n",
       "</div>"
      ],
      "text/plain": [
       "      crim    zn  indus    nox     rm   age     dis  rad  tax  ptratio   black  lstat  medv\n",
       "0  0.00632  18.0   2.31  0.538  6.575  65.2  4.0900    1  296     15.3  396.90   4.98  24.0\n",
       "1  0.02731   0.0   7.07  0.469  6.421  78.9  4.9671    2  242     17.8  396.90   9.14  21.6\n",
       "2  0.02729   0.0   7.07  0.469  7.185  61.1  4.9671    2  242     17.8  392.83   4.03  34.7\n",
       "3  0.03237   0.0   2.18  0.458  6.998  45.8  6.0622    3  222     18.7  394.63   2.94  33.4\n",
       "4  0.06905   0.0   2.18  0.458  7.147  54.2  6.0622    3  222     18.7  396.90   5.33  36.2"
      ]
     },
     "execution_count": 44,
     "metadata": {},
     "output_type": "execute_result"
    }
   ],
   "source": [
    "data.head()"
   ]
  },
  {
   "cell_type": "code",
   "execution_count": 45,
   "id": "75c8edbc-5f80-497f-a0c9-19bc0b22a535",
   "metadata": {},
   "outputs": [],
   "source": [
    "x = data.iloc[:,:12]\n",
    "y = data.iloc[:,12]"
   ]
  },
  {
   "cell_type": "code",
   "execution_count": 46,
   "id": "0c2b0ffe-67df-4c5f-bdf8-ab01c78ebdee",
   "metadata": {},
   "outputs": [],
   "source": [
    "model = LinearRegression()"
   ]
  },
  {
   "cell_type": "code",
   "execution_count": 47,
   "id": "f217f2d5-700c-41ad-850c-2d9b42afdff7",
   "metadata": {},
   "outputs": [],
   "source": [
    "rfe = RFE(estimator=model,n_features_to_select=7)"
   ]
  },
  {
   "cell_type": "raw",
   "id": "7ec502e0-ba1a-4621-9a3d-ebeab0db4bcb",
   "metadata": {},
   "source": [
    "results = rfe.fit(x,y)"
   ]
  },
  {
   "cell_type": "code",
   "execution_count": 48,
   "id": "caa9b100-81a2-4264-b5f3-bdab3890a251",
   "metadata": {},
   "outputs": [
    {
     "data": {
      "text/plain": [
       "np.int64(7)"
      ]
     },
     "execution_count": 48,
     "metadata": {},
     "output_type": "execute_result"
    }
   ],
   "source": [
    "results.n_features_"
   ]
  },
  {
   "cell_type": "code",
   "execution_count": 49,
   "id": "e533f6a2-3954-43d6-ad45-4e6c8f914d5f",
   "metadata": {},
   "outputs": [
    {
     "data": {
      "text/plain": [
       "array([ True, False, False,  True,  True, False,  True,  True, False,\n",
       "        True, False,  True])"
      ]
     },
     "execution_count": 49,
     "metadata": {},
     "output_type": "execute_result"
    }
   ],
   "source": [
    "results.support_"
   ]
  },
  {
   "cell_type": "code",
   "execution_count": 50,
   "id": "5ae360d0-9c80-4871-940d-08ae74277dad",
   "metadata": {},
   "outputs": [
    {
     "data": {
      "text/plain": [
       "Index(['crim', 'nox', 'rm', 'dis', 'rad', 'ptratio', 'lstat'], dtype='object')"
      ]
     },
     "execution_count": 50,
     "metadata": {},
     "output_type": "execute_result"
    }
   ],
   "source": [
    "selected = x.columns[results.support_]  #Boolean Masking\n",
    "selected"
   ]
  },
  {
   "cell_type": "code",
   "execution_count": 38,
   "id": "1b0a00c1-c8f3-4d7e-98c3-736e4f597b28",
   "metadata": {},
   "outputs": [
    {
     "data": {
      "text/plain": [
       "array([[6.3200e-03, 5.3800e-01, 6.5750e+00, ..., 1.0000e+00, 1.5300e+01,\n",
       "        4.9800e+00],\n",
       "       [2.7310e-02, 4.6900e-01, 6.4210e+00, ..., 2.0000e+00, 1.7800e+01,\n",
       "        9.1400e+00],\n",
       "       [2.7290e-02, 4.6900e-01, 7.1850e+00, ..., 2.0000e+00, 1.7800e+01,\n",
       "        4.0300e+00],\n",
       "       ...,\n",
       "       [6.0760e-02, 5.7300e-01, 6.9760e+00, ..., 1.0000e+00, 2.1000e+01,\n",
       "        5.6400e+00],\n",
       "       [1.0959e-01, 5.7300e-01, 6.7940e+00, ..., 1.0000e+00, 2.1000e+01,\n",
       "        6.4800e+00],\n",
       "       [4.7410e-02, 5.7300e-01, 6.0300e+00, ..., 1.0000e+00, 2.1000e+01,\n",
       "        7.8800e+00]])"
      ]
     },
     "execution_count": 38,
     "metadata": {},
     "output_type": "execute_result"
    }
   ],
   "source": [
    "x_new = x[selected]\n",
    "x_new = x_new.values\n",
    "x_new"
   ]
  },
  {
   "cell_type": "code",
   "execution_count": 39,
   "id": "cf2693f5-be64-4a57-b071-be639aca3068",
   "metadata": {},
   "outputs": [],
   "source": [
    "##Direct Method"
   ]
  },
  {
   "cell_type": "code",
   "execution_count": 40,
   "id": "38f2858e-4d86-4f20-97a1-e256a9c2d6b8",
   "metadata": {},
   "outputs": [
    {
     "data": {
      "text/plain": [
       "array([[6.3200e-03, 5.3800e-01, 6.5750e+00, ..., 1.0000e+00, 1.5300e+01,\n",
       "        4.9800e+00],\n",
       "       [2.7310e-02, 4.6900e-01, 6.4210e+00, ..., 2.0000e+00, 1.7800e+01,\n",
       "        9.1400e+00],\n",
       "       [2.7290e-02, 4.6900e-01, 7.1850e+00, ..., 2.0000e+00, 1.7800e+01,\n",
       "        4.0300e+00],\n",
       "       ...,\n",
       "       [6.0760e-02, 5.7300e-01, 6.9760e+00, ..., 1.0000e+00, 2.1000e+01,\n",
       "        5.6400e+00],\n",
       "       [1.0959e-01, 5.7300e-01, 6.7940e+00, ..., 1.0000e+00, 2.1000e+01,\n",
       "        6.4800e+00],\n",
       "       [4.7410e-02, 5.7300e-01, 6.0300e+00, ..., 1.0000e+00, 2.1000e+01,\n",
       "        7.8800e+00]])"
      ]
     },
     "execution_count": 40,
     "metadata": {},
     "output_type": "execute_result"
    }
   ],
   "source": [
    "x_new1 = rfe.fit_transform(x,y)\n",
    "x_new1"
   ]
  },
  {
   "cell_type": "code",
   "execution_count": 41,
   "id": "be83b27e-738e-4094-832b-b8681f39c4b1",
   "metadata": {},
   "outputs": [
    {
     "data": {
      "text/plain": [
       "array([1, 3, 2, 1, 1, 6, 1, 1, 4, 1, 5, 1])"
      ]
     },
     "execution_count": 41,
     "metadata": {},
     "output_type": "execute_result"
    }
   ],
   "source": [
    "results.ranking_"
   ]
  },
  {
   "cell_type": "code",
   "execution_count": 52,
   "id": "622fd035-1569-4ca8-b57d-cbf940de2735",
   "metadata": {},
   "outputs": [],
   "source": [
    "#New Method - RFECV"
   ]
  },
  {
   "cell_type": "code",
   "execution_count": 53,
   "id": "86b43708-48bd-4320-8e18-ed3d50fa1dfd",
   "metadata": {},
   "outputs": [],
   "source": [
    "rfecv = RFECV(estimator=model,min_features_to_select=1,cv=10)"
   ]
  },
  {
   "cell_type": "code",
   "execution_count": 54,
   "id": "0ac3b709-6904-4463-b279-87987dfc1e66",
   "metadata": {},
   "outputs": [],
   "source": [
    "results1 = rfecv.fit(x,y)"
   ]
  },
  {
   "cell_type": "code",
   "execution_count": 56,
   "id": "71129803-55d2-4751-bdc6-da1b8ca57844",
   "metadata": {},
   "outputs": [
    {
     "data": {
      "text/plain": [
       "array([False, False, False,  True,  True, False,  True, False, False,\n",
       "        True, False,  True])"
      ]
     },
     "execution_count": 56,
     "metadata": {},
     "output_type": "execute_result"
    }
   ],
   "source": [
    "results1.support_"
   ]
  },
  {
   "cell_type": "code",
   "execution_count": 57,
   "id": "c69b0fb7-3b86-493f-a2d5-e393afa149fe",
   "metadata": {},
   "outputs": [
    {
     "data": {
      "text/plain": [
       "Index(['nox', 'rm', 'dis', 'ptratio', 'lstat'], dtype='object')"
      ]
     },
     "execution_count": 57,
     "metadata": {},
     "output_type": "execute_result"
    }
   ],
   "source": [
    "x.columns[results1.support_]"
   ]
  },
  {
   "cell_type": "code",
   "execution_count": 58,
   "id": "74c1accf-7072-4587-8040-fbf7fd25b676",
   "metadata": {},
   "outputs": [
    {
     "data": {
      "text/plain": [
       "array([[ 0.538 ,  6.575 ,  4.09  , 15.3   ,  4.98  ],\n",
       "       [ 0.469 ,  6.421 ,  4.9671, 17.8   ,  9.14  ],\n",
       "       [ 0.469 ,  7.185 ,  4.9671, 17.8   ,  4.03  ],\n",
       "       ...,\n",
       "       [ 0.573 ,  6.976 ,  2.1675, 21.    ,  5.64  ],\n",
       "       [ 0.573 ,  6.794 ,  2.3889, 21.    ,  6.48  ],\n",
       "       [ 0.573 ,  6.03  ,  2.505 , 21.    ,  7.88  ]])"
      ]
     },
     "execution_count": 58,
     "metadata": {},
     "output_type": "execute_result"
    }
   ],
   "source": [
    "x[x.columns[results1.support_]].values"
   ]
  },
  {
   "cell_type": "code",
   "execution_count": 59,
   "id": "29dbe292-5289-43e0-b2ba-2e4b15ce8b3f",
   "metadata": {},
   "outputs": [],
   "source": [
    "x_new2 = rfecv.fit_transform(x,y)"
   ]
  },
  {
   "cell_type": "code",
   "execution_count": 60,
   "id": "f7d7ca84-1831-49a8-b720-4b7f046a0fa2",
   "metadata": {},
   "outputs": [
    {
     "data": {
      "text/plain": [
       "array([[ 0.538 ,  6.575 ,  4.09  , 15.3   ,  4.98  ],\n",
       "       [ 0.469 ,  6.421 ,  4.9671, 17.8   ,  9.14  ],\n",
       "       [ 0.469 ,  7.185 ,  4.9671, 17.8   ,  4.03  ],\n",
       "       ...,\n",
       "       [ 0.573 ,  6.976 ,  2.1675, 21.    ,  5.64  ],\n",
       "       [ 0.573 ,  6.794 ,  2.3889, 21.    ,  6.48  ],\n",
       "       [ 0.573 ,  6.03  ,  2.505 , 21.    ,  7.88  ]])"
      ]
     },
     "execution_count": 60,
     "metadata": {},
     "output_type": "execute_result"
    }
   ],
   "source": [
    "x_new2"
   ]
  },
  {
   "cell_type": "code",
   "execution_count": null,
   "id": "2a8fc9b5-298e-4961-a27a-cb86d74c0169",
   "metadata": {},
   "outputs": [],
   "source": []
  }
 ],
 "metadata": {
  "kernelspec": {
   "display_name": "Python 3 (ipykernel)",
   "language": "python",
   "name": "python3"
  },
  "language_info": {
   "codemirror_mode": {
    "name": "ipython",
    "version": 3
   },
   "file_extension": ".py",
   "mimetype": "text/x-python",
   "name": "python",
   "nbconvert_exporter": "python",
   "pygments_lexer": "ipython3",
   "version": "3.13.5"
  }
 },
 "nbformat": 4,
 "nbformat_minor": 5
}
